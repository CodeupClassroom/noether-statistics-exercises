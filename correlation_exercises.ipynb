{
 "cells": [
  {
   "cell_type": "markdown",
   "id": "dbf6a9b5",
   "metadata": {},
   "source": [
    "**Answer with the type of stats test you would use (assume normal distribution)**\n",
    "\n",
    "A. Is there a relationship between the length of your arm and the length of your foot?\n",
    "\n",
    "B. Do guys and gals quit their jobs at the same rate?\n",
    "\n",
    "C. Does the length of time of the lecture correlate with a students grade?"
   ]
  },
  {
   "cell_type": "markdown",
   "id": "3ad22f26",
   "metadata": {},
   "source": [
    "**Use the telco_churn data.**\n",
    "\n",
    "A. Does tenure correlate with monthly charges?\n",
    "\n",
    "B. Total charges?\n",
    "\n",
    "C. What happens if you control for phone and internet service?"
   ]
  },
  {
   "cell_type": "markdown",
   "id": "edbbc8a7",
   "metadata": {},
   "source": [
    "**Use the employees database.**\n",
    "\n",
    "A. Is there a relationship between how long an employee has been with the company and their salary?\n",
    "\n",
    "B. Is there a relationship between how long an employee has been with the company and the number of titles they have had?"
   ]
  },
  {
   "cell_type": "markdown",
   "id": "6b542f84",
   "metadata": {},
   "source": [
    "**Use the sleepstudy data.**\n",
    "\n",
    "A. Is there a relationship between days and reaction time?"
   ]
  },
  {
   "cell_type": "code",
   "execution_count": null,
   "id": "73a38b42",
   "metadata": {},
   "outputs": [],
   "source": []
  }
 ],
 "metadata": {
  "kernelspec": {
   "display_name": "Python 3",
   "language": "python",
   "name": "python3"
  },
  "language_info": {
   "codemirror_mode": {
    "name": "ipython",
    "version": 3
   },
   "file_extension": ".py",
   "mimetype": "text/x-python",
   "name": "python",
   "nbconvert_exporter": "python",
   "pygments_lexer": "ipython3",
   "version": "3.8.8"
  }
 },
 "nbformat": 4,
 "nbformat_minor": 5
}
