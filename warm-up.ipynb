{
 "cells": [
  {
   "cell_type": "code",
   "execution_count": 20,
   "id": "119fccd5",
   "metadata": {},
   "outputs": [],
   "source": [
    "from pydataset import data\n",
    "import pandas as pd\n",
    "import matplotlib as plt\n",
    "from scipy import stats"
   ]
  },
  {
   "cell_type": "markdown",
   "id": "42632a9d",
   "metadata": {},
   "source": [
    "Is there a significant different in temperature across the 3 different recipes? \n",
    "\n",
    "Test? ANOVA - more than 2 groups...\n",
    "\n",
    "Assumptions? independent = YES, # of observations = YES, equal variance = YES (levene's test)\n",
    "\n",
    "H_0: There is no difference in average temp in the 3 recipes. $\\mu_{a} == \\mu_{b} == \\mu_{c}$\n",
    "\n",
    "H_a: There is a difference in average temp in the 3 recipes. $\\mu_{a} != \\mu_{b}$ OR $\\mu_{b} != \\mu_{c}$ OR $\\mu_{a} != \\mu_{c}$"
   ]
  },
  {
   "cell_type": "code",
   "execution_count": 16,
   "id": "181caeaf",
   "metadata": {},
   "outputs": [],
   "source": [
    "df = data('cake')"
   ]
  },
  {
   "cell_type": "code",
   "execution_count": 17,
   "id": "83e8809f",
   "metadata": {},
   "outputs": [
    {
     "data": {
      "text/plain": [
       "<AxesSubplot:>"
      ]
     },
     "execution_count": 17,
     "metadata": {},
     "output_type": "execute_result"
    },
    {
     "data": {
      "image/png": "[encoded data removed]",
      "text/plain": [
       "<Figure size 432x288 with 1 Axes>"
      ]
     },
     "metadata": {
      "needs_background": "light"
     },
     "output_type": "display_data"
    }
   ],
   "source": [
    "a_temp = df[df['recipe']=='A']['temp']\n",
    "a_temp.hist()"
   ]
  },
  {
   "cell_type": "code",
   "execution_count": 18,
   "id": "ea9bc2ba",
   "metadata": {},
   "outputs": [
    {
     "data": {
      "text/plain": [
       "<AxesSubplot:>"
      ]
     },
     "execution_count": 18,
     "metadata": {},
     "output_type": "execute_result"
    },
    {
     "data": {
      "image/png": "[encoded data removed]",
      "text/plain": [
       "<Figure size 432x288 with 1 Axes>"
      ]
     },
     "metadata": {
      "needs_background": "light"
     },
     "output_type": "display_data"
    }
   ],
   "source": [
    "b_temp = df[df['recipe']=='B']['temp']\n",
    "b_temp.hist()"
   ]
  },
  {
   "cell_type": "code",
   "execution_count": 19,
   "id": "feb63196",
   "metadata": {},
   "outputs": [
    {
     "data": {
      "text/plain": [
       "<AxesSubplot:>"
      ]
     },
     "execution_count": 19,
     "metadata": {},
     "output_type": "execute_result"
    },
    {
     "data": {
      "image/png": "[encoded data removed]",
      "text/plain": [
       "<Figure size 432x288 with 1 Axes>"
      ]
     },
     "metadata": {
      "needs_background": "light"
     },
     "output_type": "display_data"
    }
   ],
   "source": [
    "c_temp = df[df['recipe']=='C']['temp']\n",
    "c_temp.hist()"
   ]
  },
  {
   "cell_type": "code",
   "execution_count": 21,
   "id": "41649914",
   "metadata": {},
   "outputs": [
    {
     "data": {
      "text/plain": [
       "LeveneResult(statistic=0.0, pvalue=1.0)"
      ]
     },
     "execution_count": 21,
     "metadata": {},
     "output_type": "execute_result"
    }
   ],
   "source": [
    "stats.levene(a_temp, b_temp, c_temp)"
   ]
  },
  {
   "cell_type": "code",
   "execution_count": 23,
   "id": "4d0e5608",
   "metadata": {},
   "outputs": [
    {
     "data": {
      "text/plain": [
       "False"
      ]
     },
     "execution_count": 23,
     "metadata": {},
     "output_type": "execute_result"
    }
   ],
   "source": [
    "alpha = 0.05\n",
    "f, p = stats.f_oneway(a_temp, b_temp, c_temp)\n",
    "p < alpha"
   ]
  },
  {
   "cell_type": "markdown",
   "id": "dd454671",
   "metadata": {},
   "source": [
    "We fail to reject the null hypothesis that there is no difference in average temp in the 3 recipes. $\\mu_{a} == \\mu_{b} == \\mu_{c}$\n",
    "\n",
    "There is no significant different in the temperatures across the 3 recipes. "
   ]
  },
  {
   "cell_type": "code",
   "execution_count": null,
   "id": "77141645",
   "metadata": {},
   "outputs": [],
   "source": []
  }
 ],
 "metadata": {
  "kernelspec": {
   "display_name": "Python 3",
   "language": "python",
   "name": "python3"
  },
  "language_info": {
   "codemirror_mode": {
    "name": "ipython",
    "version": 3
   },
   "file_extension": ".py",
   "mimetype": "text/x-python",
   "name": "python",
   "nbconvert_exporter": "python",
   "pygments_lexer": "ipython3",
   "version": "3.8.8"
  }
 },
 "nbformat": 4,
 "nbformat_minor": 5
}
