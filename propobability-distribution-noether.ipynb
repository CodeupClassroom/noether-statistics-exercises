{
 "cells": [
  {
   "cell_type": "markdown",
   "id": "0442481d",
   "metadata": {},
   "source": [
    "# PROBABILITY DISTRIBUTIONS EXERCISES"
   ]
  },
  {
   "cell_type": "code",
   "execution_count": 1,
   "id": "92db368b",
   "metadata": {},
   "outputs": [],
   "source": [
    "import matplotlib.pyplot as plt\n",
    "import numpy as np\n",
    "import pandas as pd\n",
    "from scipy import stats"
   ]
  },
  {
   "cell_type": "markdown",
   "id": "a7def0b1",
   "metadata": {},
   "source": [
    "<hr style=\"border:2px solid gray\">"
   ]
  },
  {
   "cell_type": "markdown",
   "id": "24a435e6",
   "metadata": {},
   "source": [
    "### #1. A bank found that the average number of cars waiting during the noon hour at a drive-up window follows a Poisson distribution with a mean of 2 cars. Make a chart of this distribution and answer these questions concerning the probability of cars waiting at the drive-up window.\n",
    "- What is the probability that no cars drive up in the noon hour?\n",
    "- What is the probability that 3 or more cars come through the drive through?\n",
    "- How likely is it that the drive through gets at least 1 car?"
   ]
  },
  {
   "cell_type": "markdown",
   "id": "2c64c128",
   "metadata": {},
   "source": [
    "##### What is the probability that no cars drive up in the noon hour?"
   ]
  },
  {
   "cell_type": "code",
   "execution_count": 2,
   "id": "4680ad98",
   "metadata": {},
   "outputs": [
    {
     "data": {
      "text/plain": [
       "0.1353352832366127"
      ]
     },
     "execution_count": 2,
     "metadata": {},
     "output_type": "execute_result"
    }
   ],
   "source": [
    "#at noon\n",
    "λ = 2 \n",
    "stats.poisson(λ).pmf(0)"
   ]
  },
  {
   "cell_type": "markdown",
   "id": "a761996a",
   "metadata": {},
   "source": [
    "##### What is the probability that 3 or more cars come through the drive through?"
   ]
  },
  {
   "cell_type": "code",
   "execution_count": 3,
   "id": "bca9b6a7",
   "metadata": {},
   "outputs": [
    {
     "data": {
      "text/plain": [
       "0.32332358381693654"
      ]
     },
     "execution_count": 3,
     "metadata": {},
     "output_type": "execute_result"
    }
   ],
   "source": [
    "stats.poisson(λ).sf(2)"
   ]
  },
  {
   "cell_type": "markdown",
   "id": "23c9ef23",
   "metadata": {},
   "source": [
    "##### How likely is it that the drive through gets at least 1 car?"
   ]
  },
  {
   "cell_type": "code",
   "execution_count": 4,
   "id": "575792c4",
   "metadata": {},
   "outputs": [
    {
     "data": {
      "text/plain": [
       "0.8646647167633873"
      ]
     },
     "execution_count": 4,
     "metadata": {},
     "output_type": "execute_result"
    }
   ],
   "source": [
    "stats.poisson(λ).sf(0)"
   ]
  },
  {
   "cell_type": "markdown",
   "id": "c9017a8e",
   "metadata": {},
   "source": [
    "<b>Let's see a visual</b>"
   ]
  },
  {
   "cell_type": "code",
   "execution_count": 5,
   "id": "bb2f07de",
   "metadata": {},
   "outputs": [
    {
     "data": {
      "text/plain": [
       "<BarContainer object of 12 artists>"
      ]
     },
     "execution_count": 5,
     "metadata": {},
     "output_type": "execute_result"
    },
    {
     "data": {
      "image/png": "[encoded data removed]",
      "text/plain": [
       "<Figure size 640x480 with 1 Axes>"
      ]
     },
     "metadata": {},
     "output_type": "display_data"
    }
   ],
   "source": [
    "λ = 2 \n",
    "x = np.arange(0,12)\n",
    "y = stats.poisson(λ).pmf(x)\n",
    "\n",
    "plt.bar(x,y)"
   ]
  },
  {
   "cell_type": "markdown",
   "id": "ffa96ec2",
   "metadata": {},
   "source": [
    "<hr style=\"border:1.5px solid black\">"
   ]
  },
  {
   "cell_type": "markdown",
   "id": "3364c815",
   "metadata": {},
   "source": [
    "### #2. Grades of State University graduates are normally distributed with a mean of 3.0 and a standard deviation of .3. Calculate the following:\n",
    "- What grade point average is required to be in the top 5% of the graduating class?\n",
    "- What GPA constitutes the bottom 15% of the class?\n",
    "- An eccentric alumnus left scholarship money for students in the third decile from the bottom of their class. Determine the range of the third decile. Would a student with a 2.8 grade point average qualify for this scholarship?\n",
    "- If I have a GPA of 3.5, what percentile am I in?"
   ]
  },
  {
   "cell_type": "code",
   "execution_count": 6,
   "id": "7e165520",
   "metadata": {},
   "outputs": [],
   "source": [
    "#normal distribution\n",
    "mean= 3\n",
    "std_dev= 0.3\n",
    "grade = stats.norm(mean,std_dev)"
   ]
  },
  {
   "cell_type": "markdown",
   "id": "80927bf9",
   "metadata": {},
   "source": [
    "##### What grade point average is required to be in the top 5% of the graduating class?"
   ]
  },
  {
   "cell_type": "code",
   "execution_count": 7,
   "id": "a1b054a6",
   "metadata": {},
   "outputs": [
    {
     "data": {
      "text/plain": [
       "3.4934560880854417"
      ]
     },
     "execution_count": 7,
     "metadata": {},
     "output_type": "execute_result"
    }
   ],
   "source": [
    "grade.isf(.05)"
   ]
  },
  {
   "cell_type": "markdown",
   "id": "d4c56d1c",
   "metadata": {},
   "source": [
    "##### What GPA constitutes the bottom 15% of the class?"
   ]
  },
  {
   "cell_type": "code",
   "execution_count": 8,
   "id": "7b0ce0da",
   "metadata": {},
   "outputs": [
    {
     "data": {
      "text/plain": [
       "2.689069983151863"
      ]
     },
     "execution_count": 8,
     "metadata": {},
     "output_type": "execute_result"
    }
   ],
   "source": [
    "grade.ppf(.15)\n",
    "#grade.isf(.85)"
   ]
  },
  {
   "cell_type": "markdown",
   "id": "27afff28",
   "metadata": {},
   "source": [
    "<div class=\"alert alert-block alert-info\">\n",
    "<b>NOTES:</b> \n",
    "    <br>\n",
    "1st decile: 0-10 percentile\n",
    "     <br>\n",
    "2nd decile:10-20 percentile\n",
    "     <br>\n",
    "3rd decile: 20-30 percentile</div>\n"
   ]
  },
  {
   "cell_type": "markdown",
   "id": "464f0fb1",
   "metadata": {},
   "source": [
    "##### An eccentric alumnus left scholarship money for students in the third decile from the bottom of their class. Determine the range of the third decile. Would a student with a 2.8 grade point average qualify for this scholarship?"
   ]
  },
  {
   "cell_type": "code",
   "execution_count": 9,
   "id": "e6c33eb2",
   "metadata": {},
   "outputs": [
    {
     "data": {
      "text/plain": [
       "array([2.74751363, 2.84267985])"
      ]
     },
     "execution_count": 9,
     "metadata": {},
     "output_type": "execute_result"
    }
   ],
   "source": [
    "grade.ppf([.20,.30])"
   ]
  },
  {
   "cell_type": "markdown",
   "id": "3fbe74cf",
   "metadata": {},
   "source": [
    "##### If I have a GPA of 3.5, what percentile am I in?"
   ]
  },
  {
   "cell_type": "code",
   "execution_count": 10,
   "id": "857f54ac",
   "metadata": {},
   "outputs": [
    {
     "data": {
      "text/plain": [
       "0.9522096477271853"
      ]
     },
     "execution_count": 10,
     "metadata": {},
     "output_type": "execute_result"
    }
   ],
   "source": [
    "grade.cdf(3.5)"
   ]
  },
  {
   "cell_type": "markdown",
   "id": "ad0e48e3",
   "metadata": {},
   "source": [
    "<hr style=\"border:1.5px solid black\">"
   ]
  },
  {
   "cell_type": "markdown",
   "id": "e291045b",
   "metadata": {},
   "source": [
    "### #3. A marketing website has an average click-through rate of 2%. One day they observe 4326 visitors and 97 click-throughs.\n",
    "- How likely is it that this many people or more click through?"
   ]
  },
  {
   "cell_type": "code",
   "execution_count": 11,
   "id": "5bb1cb20",
   "metadata": {},
   "outputs": [],
   "source": [
    "n_trials = 4326\n",
    "p= .02\n",
    "click_throughs = stats.binom(n_trials, p)"
   ]
  },
  {
   "cell_type": "code",
   "execution_count": 12,
   "id": "f465218c",
   "metadata": {},
   "outputs": [
    {
     "data": {
      "text/plain": [
       "0.13975823631416448"
      ]
     },
     "execution_count": 12,
     "metadata": {},
     "output_type": "execute_result"
    }
   ],
   "source": [
    "click_throughs.sf(96)"
   ]
  },
  {
   "cell_type": "markdown",
   "id": "e17cdb68",
   "metadata": {},
   "source": [
    "<b>Walkthrough using simulation</b>"
   ]
  },
  {
   "cell_type": "code",
   "execution_count": 13,
   "id": "92709016",
   "metadata": {},
   "outputs": [
    {
     "data": {
      "text/plain": [
       "array([[0, 0, 0, ..., 0, 1, 0],\n",
       "       [0, 0, 0, ..., 0, 0, 0],\n",
       "       [0, 0, 0, ..., 0, 0, 0],\n",
       "       ...,\n",
       "       [0, 0, 0, ..., 0, 0, 0],\n",
       "       [0, 0, 0, ..., 0, 0, 0],\n",
       "       [0, 0, 0, ..., 0, 0, 0]])"
      ]
     },
     "execution_count": 13,
     "metadata": {},
     "output_type": "execute_result"
    }
   ],
   "source": [
    "clicks= np.random.choice([0,1], (10_000, 4326), p = [.98,.02])\n",
    "clicks\n",
    "\n",
    "#([0,1] is click or not- true / false)"
   ]
  },
  {
   "cell_type": "code",
   "execution_count": 14,
   "id": "c8427f60",
   "metadata": {},
   "outputs": [
    {
     "data": {
      "text/plain": [
       "0.1404"
      ]
     },
     "execution_count": 14,
     "metadata": {},
     "output_type": "execute_result"
    }
   ],
   "source": [
    "(clicks.sum(axis=1) >96).mean()"
   ]
  },
  {
   "cell_type": "markdown",
   "id": "c2a4372c",
   "metadata": {},
   "source": [
    "<b>Walkthrough using simulation</b>"
   ]
  },
  {
   "cell_type": "code",
   "execution_count": 15,
   "id": "43a294ef",
   "metadata": {},
   "outputs": [
    {
     "data": {
      "text/plain": [
       "0.14211867659283192"
      ]
     },
     "execution_count": 15,
     "metadata": {},
     "output_type": "execute_result"
    }
   ],
   "source": [
    "λ = n_trials* p\n",
    "stats.poisson(λ).sf(96)"
   ]
  },
  {
   "cell_type": "markdown",
   "id": "6acd2f37",
   "metadata": {},
   "source": [
    "<hr style=\"border:1.5px solid black\">"
   ]
  },
  {
   "cell_type": "markdown",
   "id": "51b9b19f",
   "metadata": {},
   "source": [
    "### #4. You are working on some statistics homework consisting of 100 questions where all of the answers are a probability rounded to the hundreths place. Looking to save time, you put down random probabilities as the answer to each question.\n",
    "- What is the probability that at least one of your first 60 answers is correct?\n"
   ]
  },
  {
   "cell_type": "code",
   "execution_count": 16,
   "id": "27aef45c",
   "metadata": {},
   "outputs": [
    {
     "data": {
      "text/plain": [
       "0.6339676587267705"
      ]
     },
     "execution_count": 16,
     "metadata": {},
     "output_type": "execute_result"
    }
   ],
   "source": [
    "n_trials = 100\n",
    "p= 0.01\n",
    "\n",
    "stats.binom(n_trials, p).sf(0)"
   ]
  },
  {
   "cell_type": "markdown",
   "id": "679ab8da",
   "metadata": {},
   "source": [
    "<b>Walkthrough using simulation</b>"
   ]
  },
  {
   "cell_type": "code",
   "execution_count": 17,
   "id": "57850fe7",
   "metadata": {},
   "outputs": [
    {
     "data": {
      "text/plain": [
       "0.4536"
      ]
     },
     "execution_count": 17,
     "metadata": {},
     "output_type": "execute_result"
    }
   ],
   "source": [
    "((np.random.choice([0,1], (10_000, 60), p= [0.99,0.01])).sum(axis = 1)>0).mean()"
   ]
  },
  {
   "cell_type": "markdown",
   "id": "5e9a7389",
   "metadata": {},
   "source": [
    "<hr style=\"border:1.5px solid black\">"
   ]
  },
  {
   "cell_type": "markdown",
   "id": "4c446733",
   "metadata": {},
   "source": [
    "### #5. The codeup staff tends to get upset when the student break area is not cleaned up. Suppose that there's a 3% chance that any one student cleans the break area when they visit it, and, on any given day, about 90% of the 3 active cohorts of 22 students visit the break area. \n",
    "- How likely is it that the break area gets cleaned up each day? \n",
    "- How likely is it that it goes two days without getting cleaned up? \n",
    "- All week?"
   ]
  },
  {
   "cell_type": "markdown",
   "id": "73fe8176",
   "metadata": {},
   "source": [
    "##### How likely is it that the break area gets cleaned up each day? \n"
   ]
  },
  {
   "cell_type": "code",
   "execution_count": 18,
   "id": "fe7fba9b",
   "metadata": {},
   "outputs": [],
   "source": [
    "students = 0.9*(3*22)\n",
    "p= .03"
   ]
  },
  {
   "cell_type": "code",
   "execution_count": 19,
   "id": "a82f863f",
   "metadata": {},
   "outputs": [
    {
     "data": {
      "text/plain": [
       "nan"
      ]
     },
     "execution_count": 19,
     "metadata": {},
     "output_type": "execute_result"
    }
   ],
   "source": [
    "#\"sf(0)\" because we want it cleaned more then 0 times\n",
    "stats.binom(students, p).sf(0)"
   ]
  },
  {
   "cell_type": "markdown",
   "id": "b76ab438",
   "metadata": {},
   "source": [
    "<b>Let's visualize this</b>"
   ]
  },
  {
   "cell_type": "code",
   "execution_count": 20,
   "id": "a6ed9b71",
   "metadata": {},
   "outputs": [
    {
     "data": {
      "text/plain": [
       "<BarContainer object of 10 artists>"
      ]
     },
     "execution_count": 20,
     "metadata": {},
     "output_type": "execute_result"
    },
    {
     "data": {
      "image/png": "[encoded data removed]",
      "text/plain": [
       "<Figure size 640x480 with 1 Axes>"
      ]
     },
     "metadata": {},
     "output_type": "display_data"
    }
   ],
   "source": [
    "x= np.arange(0,10)\n",
    "y = stats.binom(students,p).pmf(x)\n",
    "plt.bar(x,y)"
   ]
  },
  {
   "cell_type": "markdown",
   "id": "fbffe0f1",
   "metadata": {},
   "source": [
    "##### How likely is it that it goes two days without getting cleaned up? \n"
   ]
  },
  {
   "cell_type": "code",
   "execution_count": 21,
   "id": "88d7b901",
   "metadata": {},
   "outputs": [
    {
     "data": {
      "text/plain": [
       "nan"
      ]
     },
     "execution_count": 21,
     "metadata": {},
     "output_type": "execute_result"
    }
   ],
   "source": [
    "visit_in_two_days = students *2\n",
    "stats.binom(visit_in_two_days, p).pmf(0)"
   ]
  },
  {
   "cell_type": "markdown",
   "id": "f7c01fa5",
   "metadata": {},
   "source": [
    "##### All week?"
   ]
  },
  {
   "cell_type": "code",
   "execution_count": 22,
   "id": "1ba66830",
   "metadata": {},
   "outputs": [
    {
     "data": {
      "text/plain": [
       "0.00011781621791055051"
      ]
     },
     "execution_count": 22,
     "metadata": {},
     "output_type": "execute_result"
    }
   ],
   "source": [
    "visit_in_five_days = students *5\n",
    "stats.binom(visit_in_five_days, p).pmf(0)"
   ]
  },
  {
   "cell_type": "markdown",
   "id": "f1fe4be8",
   "metadata": {},
   "source": [
    "<hr style=\"border:1.5px solid black\">"
   ]
  },
  {
   "cell_type": "markdown",
   "id": "8dfad4e3",
   "metadata": {},
   "source": [
    "### #6. You want to get lunch at La Panaderia, but notice that the line is usually very long at lunchtime. After several weeks of careful observation, you notice that the average number of people in line when your lunch break starts is normally distributed with a mean of 15 and standard deviation of 3. If it takes 2 minutes for each person to order, and 10 minutes from ordering to getting your food, what is the likelihood that you have at least 15 minutes left to eat your food before you have to go back to class? Assume you have one hour for lunch, and ignore travel time to and from La Panaderia."
   ]
  },
  {
   "cell_type": "code",
   "execution_count": 23,
   "id": "d49a1839",
   "metadata": {},
   "outputs": [
    {
     "data": {
      "text/plain": [
       "33"
      ]
     },
     "execution_count": 23,
     "metadata": {},
     "output_type": "execute_result"
    }
   ],
   "source": [
    "mean= 15 * 2 # 15 people take 2 minutes each to order\n",
    "std_dev = 3 * 2\n",
    "\n",
    "total_lunch_time = 60 #mins\n",
    "order_time = 2 #mins\n",
    "eat_time = 15 #mins\n",
    "cook_time = 10 #mins\n",
    "\n",
    "max_wait = total_lunch_time - order_time - eat_time - cook_time\n",
    "max_wait"
   ]
  },
  {
   "cell_type": "code",
   "execution_count": 24,
   "id": "1ec155a3",
   "metadata": {},
   "outputs": [],
   "source": [
    "# 1 hour lunch - 15 mins to eat = 45mins left\n",
    "# 45mins left - 10mins after ordering - 2 mins to order = 33 mins to wait"
   ]
  },
  {
   "cell_type": "code",
   "execution_count": 25,
   "id": "26815473",
   "metadata": {},
   "outputs": [
    {
     "data": {
      "text/plain": [
       "<scipy.stats._distn_infrastructure.rv_continuous_frozen at 0x168838340>"
      ]
     },
     "execution_count": 25,
     "metadata": {},
     "output_type": "execute_result"
    }
   ],
   "source": [
    "stats.norm(mean, std_dev)"
   ]
  },
  {
   "cell_type": "code",
   "execution_count": 26,
   "id": "5d8d569f",
   "metadata": {},
   "outputs": [
    {
     "data": {
      "text/plain": [
       "0.6914624612740131"
      ]
     },
     "execution_count": 26,
     "metadata": {},
     "output_type": "execute_result"
    }
   ],
   "source": [
    "stats.norm(mean, std_dev).cdf(max_wait)"
   ]
  },
  {
   "cell_type": "markdown",
   "id": "96dffe12",
   "metadata": {},
   "source": [
    "<b>Using PEOPLE instead of TIME</b>"
   ]
  },
  {
   "cell_type": "code",
   "execution_count": 27,
   "id": "cf215d7b",
   "metadata": {},
   "outputs": [
    {
     "data": {
      "text/plain": [
       "0.7976716190363569"
      ]
     },
     "execution_count": 27,
     "metadata": {},
     "output_type": "execute_result"
    }
   ],
   "source": [
    "mean = 15\n",
    "std_dev = 3\n",
    "\n",
    "stats.norm(mean, std_dev).cdf(17.5)"
   ]
  },
  {
   "cell_type": "markdown",
   "id": "5b9e404f",
   "metadata": {},
   "source": [
    "<b>Walkthrough using simulation</b>"
   ]
  },
  {
   "cell_type": "code",
   "execution_count": 28,
   "id": "77d4eb92",
   "metadata": {},
   "outputs": [
    {
     "data": {
      "text/plain": [
       "0.795"
      ]
     },
     "execution_count": 28,
     "metadata": {},
     "output_type": "execute_result"
    }
   ],
   "source": [
    "(np.random.normal(30,6,10_000) < 35).mean()"
   ]
  },
  {
   "cell_type": "markdown",
   "id": "fa6ec31b",
   "metadata": {},
   "source": [
    "<hr style=\"border:1.5px solid black\">"
   ]
  },
  {
   "cell_type": "markdown",
   "id": "62e84e78",
   "metadata": {},
   "source": [
    "### #7. Connect to the employees database and find the average salary of current employees, along with the standard deviation. For the following questions, calculate the answer based on modeling the employees salaries with a normal distribution defined by the calculated mean and standard deviation then compare this answer to the actual values present in the salaries dataset.\n",
    "- a. What percent of employees earn less than 60,000?\n",
    "- b. What percent of employees earn more than 95,000?\n",
    "- c. What percent of employees earn between 65,000 and 80,000?\n",
    "- d. What do the top 5% of employees make?"
   ]
  },
  {
   "cell_type": "code",
   "execution_count": 29,
   "id": "57abff8f",
   "metadata": {},
   "outputs": [
    {
     "ename": "SyntaxError",
     "evalue": "Missing parentheses in call to 'print'. Did you mean print(k)? (env.py, line 51)",
     "output_type": "error",
     "traceback": [
      "Traceback \u001b[0;36m(most recent call last)\u001b[0m:\n",
      "  File \u001b[1;32m/opt/homebrew/anaconda3/lib/python3.9/site-packages/IPython/core/interactiveshell.py:3398\u001b[0m in \u001b[1;35mrun_code\u001b[0m\n    exec(code_obj, self.user_global_ns, self.user_ns)\n",
      "\u001b[0;36m  Input \u001b[0;32mIn [29]\u001b[0;36m in \u001b[0;35m<cell line: 6>\u001b[0;36m\u001b[0m\n\u001b[0;31m    from env import host, username, password\u001b[0m\n",
      "\u001b[0;36m  File \u001b[0;32m/opt/homebrew/anaconda3/lib/python3.9/site-packages/env.py:51\u001b[0;36m\u001b[0m\n\u001b[0;31m    print k\u001b[0m\n\u001b[0m          ^\u001b[0m\n\u001b[0;31mSyntaxError\u001b[0m\u001b[0;31m:\u001b[0m Missing parentheses in call to 'print'. Did you mean print(k)?\n"
     ]
    }
   ],
   "source": [
    "import numpy as np\n",
    "import pandas as pd\n",
    "import matplotlib.pyplot as plt\n",
    "from pydataset import data\n",
    "import seaborn as sns\n",
    "from env import host, username, password"
   ]
  },
  {
   "cell_type": "code",
   "execution_count": null,
   "id": "cd95f9f2",
   "metadata": {},
   "outputs": [],
   "source": [
    "url = f'mysql+pymysql://{username}:{password}@{host}/employees'"
   ]
  },
  {
   "cell_type": "code",
   "execution_count": null,
   "id": "367cb75e",
   "metadata": {},
   "outputs": [],
   "source": [
    "def get_db_url(username, password, host, db_name):\n",
    "    return f'mysql+pymysql://{username}:{password}@{host}/{db_name}'"
   ]
  },
  {
   "cell_type": "code",
   "execution_count": null,
   "id": "e5155773",
   "metadata": {},
   "outputs": [],
   "source": [
    "salaries = pd.read_sql('SELECT * FROM salaries where to_date >now()', url)\n",
    "salaries.head()"
   ]
  },
  {
   "cell_type": "code",
   "execution_count": null,
   "id": "9a0bffa0",
   "metadata": {},
   "outputs": [],
   "source": [
    "mean= salaries.salary.mean()\n",
    "mean"
   ]
  },
  {
   "cell_type": "code",
   "execution_count": null,
   "id": "5b92f85c",
   "metadata": {},
   "outputs": [],
   "source": [
    "std_dev= salaries.salary.std()\n",
    "std_dev"
   ]
  },
  {
   "cell_type": "markdown",
   "id": "cc863e0d",
   "metadata": {},
   "source": [
    "##### A. What percent of employees earn less than 60,000?"
   ]
  },
  {
   "cell_type": "code",
   "execution_count": null,
   "id": "7bca6be5",
   "metadata": {},
   "outputs": [],
   "source": [
    "stats.norm(mean, std_dev).cdf(60000)"
   ]
  },
  {
   "cell_type": "markdown",
   "id": "8c23ff6f",
   "metadata": {},
   "source": [
    "##### B. What percent of employees earn more than 95,000?"
   ]
  },
  {
   "cell_type": "code",
   "execution_count": null,
   "id": "93b7ef9b",
   "metadata": {},
   "outputs": [],
   "source": [
    "stats.norm(mean, std_dev).sf(95000)"
   ]
  },
  {
   "cell_type": "markdown",
   "id": "05ad0c1d",
   "metadata": {},
   "source": [
    "##### C. What percent of employees earn between 65,000 and 80,000?"
   ]
  },
  {
   "cell_type": "code",
   "execution_count": null,
   "id": "0816e481",
   "metadata": {},
   "outputs": [],
   "source": [
    "more_than= stats.norm(mean, std_dev).sf(65000)\n",
    "less_than= stats.norm(mean, std_dev).cdf(80000)\n",
    "more_than, less_than"
   ]
  },
  {
   "cell_type": "code",
   "execution_count": null,
   "id": "ef521ba0",
   "metadata": {},
   "outputs": [],
   "source": [
    "#another way to complete same problem\n",
    "np. stats.norm(mean, std_dev).cdf([80000,65000])"
   ]
  },
  {
   "cell_type": "markdown",
   "id": "2e5043d4",
   "metadata": {},
   "source": [
    "##### D. What do the top 5% of employees make?"
   ]
  },
  {
   "cell_type": "code",
   "execution_count": null,
   "id": "762917f0",
   "metadata": {},
   "outputs": [],
   "source": [
    "stats.norm(mean, std_dev).isf(.05)"
   ]
  },
  {
   "cell_type": "markdown",
   "id": "4d956c62",
   "metadata": {},
   "source": [
    "<hr style=\"border:1.5px solid black\">"
   ]
  }
 ],
 "metadata": {
  "kernelspec": {
   "display_name": "Python 3 (ipykernel)",
   "language": "python",
   "name": "python3"
  },
  "language_info": {
   "codemirror_mode": {
    "name": "ipython",
    "version": 3
   },
   "file_extension": ".py",
   "mimetype": "text/x-python",
   "name": "python",
   "nbconvert_exporter": "python",
   "pygments_lexer": "ipython3",
   "version": "3.9.13"
  }
 },
 "nbformat": 4,
 "nbformat_minor": 5
}
